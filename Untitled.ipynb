{
 "cells": [
  {
   "cell_type": "code",
   "execution_count": 3,
   "id": "opened-edward",
   "metadata": {},
   "outputs": [],
   "source": [
    "import csv\n",
    "\n",
    "with open(\"denver-1.nov.csv\",\"r\") as in_file:\n",
    "    reader = csv.reader(in_file)\n",
    "    data = []\n",
    "    for lno, line in enumerate(reader):\n",
    "        if lno>0:\n",
    "            data.append(line)\n",
    "        else:\n",
    "            header=line"
   ]
  },
  {
   "cell_type": "code",
   "execution_count": 7,
   "id": "swedish-lighting",
   "metadata": {},
   "outputs": [],
   "source": [
    "data2=[]\n",
    "for line in data:\n",
    "    line_as_dict = {k: v for k,v in zip (header, line)}\n",
    "    data2.append(line_as_dict)"
   ]
  },
  {
   "cell_type": "code",
   "execution_count": 8,
   "id": "wireless-device",
   "metadata": {},
   "outputs": [
    {
     "name": "stdout",
     "output_type": "stream",
     "text": [
      "A 1\n",
      "B 2\n",
      "C 3\n"
     ]
    }
   ],
   "source": [
    "list1 = [\"A\",\"B\",\"C\"]\n",
    "list2 = [1,2,3]\n",
    "for item1, item2, in zip(list1,list2):\n",
    "    print(item1,item2)"
   ]
  },
  {
   "cell_type": "code",
   "execution_count": 12,
   "id": "allied-register",
   "metadata": {},
   "outputs": [
    {
     "name": "stdout",
     "output_type": "stream",
     "text": [
      "1 2 8\n",
      "3 4 8\n",
      "5 6 8\n"
     ]
    }
   ],
   "source": [
    "list_of_tuples = [(1,2,8),(3,4,8),(5,6,8)]\n",
    "\n",
    "for a,b,c in list_of_tuples:\n",
    "    print(a,b,c)"
   ]
  },
  {
   "cell_type": "code",
   "execution_count": null,
   "id": "sufficient-humor",
   "metadata": {},
   "outputs": [],
   "source": []
  }
 ],
 "metadata": {
  "kernelspec": {
   "display_name": "Python 3",
   "language": "python",
   "name": "python3"
  },
  "language_info": {
   "codemirror_mode": {
    "name": "ipython",
    "version": 3
   },
   "file_extension": ".py",
   "mimetype": "text/x-python",
   "name": "python",
   "nbconvert_exporter": "python",
   "pygments_lexer": "ipython3",
   "version": "3.8.5"
  }
 },
 "nbformat": 4,
 "nbformat_minor": 5
}
