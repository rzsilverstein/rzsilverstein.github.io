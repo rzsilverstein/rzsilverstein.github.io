{
 "cells": [
  {
   "cell_type": "code",
   "execution_count": 2,
   "metadata": {},
   "outputs": [],
   "source": [
    "import csv\n",
    "\n",
    "def make_data_point(line, header):\n",
    "    output = {}\n",
    "    for index, header_item in enumerate(header):\n",
    "        output[header_item] = line[index]\n",
    "    return output\n",
    "\n",
    "with open(\"denver-1.nov.csv\") as inf:\n",
    "    reader = csv.reader(inf)\n",
    "    header = next(reader)\n",
    "    all_data = []\n",
    "    for line in reader:\n",
    "        all_data.append(make_data_point(line, header))"
   ]
  },
  {
   "cell_type": "code",
   "execution_count": 3,
   "metadata": {},
   "outputs": [],
   "source": [
    "from collections import defaultdict\n",
    "\n",
    "precinct_counter = defaultdict(int)\n",
    "data_by_precinct = defaultdict(list)\n",
    "\n",
    "for point in all_data:\n",
    "    precinct_counter[point[\"precinct\"]] += 1\n",
    "    data_by_precinct[point[\"precinct\"]].append(point)\n",
    "    \n",
    "from collections import Counter\n",
    "\n",
    "#Counter([o[\"precinct\"] for o in all_data])"
   ]
  },
  {
   "cell_type": "code",
   "execution_count": 36,
   "metadata": {},
   "outputs": [],
   "source": [
    "arrest_precinct_counter = {}\n",
    "for precinct in data_by_precinct:\n",
    "    data_for_precinct = data_by_precinct[precinct]\n",
    "    arrests = 0\n",
    "    for stop in data_for_precinct:\n",
    "        if stop['arrest_made'] == \"TRUE\":\n",
    "            arrests += 1\n",
    "    arrest_precinct_counter[precinct] = arrests"
   ]
  },
  {
   "cell_type": "code",
   "execution_count": 37,
   "metadata": {},
   "outputs": [
    {
     "data": {
      "text/plain": [
       "{'423': 8,\n",
       " '324': 2,\n",
       " 'None': 23,\n",
       " '323': 10,\n",
       " '314': 8,\n",
       " '422': 15,\n",
       " '421': 26,\n",
       " '313': 11,\n",
       " '322': 8,\n",
       " '312': 19,\n",
       " '412': 46,\n",
       " '311': 49,\n",
       " '411': 54,\n",
       " '321': 6,\n",
       " '122': 40,\n",
       " '213': 23,\n",
       " '123': 26,\n",
       " '623': 28,\n",
       " '622': 24,\n",
       " '223': 78,\n",
       " '611': 41,\n",
       " '222': 16,\n",
       " '621': 50,\n",
       " '121': 39,\n",
       " '612': 43,\n",
       " '211': 65,\n",
       " '221': 33,\n",
       " '113': 14,\n",
       " '512': 14,\n",
       " '212': 39,\n",
       " '112': 40,\n",
       " '111': 41,\n",
       " '523': 4,\n",
       " '521': 26,\n",
       " '522': 4,\n",
       " '511': 12,\n",
       " '759': 0}"
      ]
     },
     "execution_count": 37,
     "metadata": {},
     "output_type": "execute_result"
    }
   ],
   "source": [
    "arrest_precinct_counter"
   ]
  },
  {
   "cell_type": "markdown",
   "metadata": {},
   "source": [
    "#### What precinct makes the most arrests?"
   ]
  },
  {
   "cell_type": "code",
   "execution_count": 4,
   "metadata": {},
   "outputs": [
    {
     "data": {
      "text/plain": [
       "0"
      ]
     },
     "execution_count": 4,
     "metadata": {},
     "output_type": "execute_result"
    }
   ],
   "source": [
    "from collections import defaultdict\n",
    "\n",
    "example = defaultdict(int)\n",
    "\n",
    "example[\"test\"]"
   ]
  },
  {
   "cell_type": "code",
   "execution_count": 5,
   "metadata": {},
   "outputs": [
    {
     "data": {
      "text/plain": [
       "defaultdict(int, {'test': 0, 'blah': 2})"
      ]
     },
     "execution_count": 5,
     "metadata": {},
     "output_type": "execute_result"
    }
   ],
   "source": [
    "example[\"blah\"] = 1\n",
    "\n",
    "example[\"blah\"] += 1\n",
    "\n",
    "example"
   ]
  },
  {
   "cell_type": "code",
   "execution_count": 28,
   "metadata": {},
   "outputs": [],
   "source": [
    "fake_data = [{\"animal\": \"cat\", \"name\": \"sir john\"}, \n",
    "             {\"animal\": \"cat\", \"name\": \"bob\"},\n",
    "             {\"animal\": \"dog\", \"name\": \"jeff\"}]\n",
    "\n",
    "cat_count = 0\n",
    "animal_counter = defaultdict(int)\n",
    "regular_dictionary = {}\n",
    "data_by_animal = defaultdict(list)\n",
    "data_by_animal_regular = {}\n",
    "\n",
    "for point in fake_data:\n",
    "\n",
    "    if point[\"animal\"] == \"cat\":\n",
    "        cat_count += 1\n",
    "\n",
    "    animal_counter[point[\"animal\"]] += 1\n",
    " \n",
    "    if point[\"animal\"] not in regular_dictionary:\n",
    "        regular_dictionary[point[\"animal\"]] = 0\n",
    "\n",
    "    regular_dictionary[point[\"animal\"]] += 1\n",
    "    \n",
    "    data_by_animal[point[\"animal\"]].append(point)\n",
    "    #data_by_animal_regular[point[\"animal\"]].append(point)"
   ]
  },
  {
   "cell_type": "code",
   "execution_count": 31,
   "metadata": {},
   "outputs": [
    {
     "name": "stdout",
     "output_type": "stream",
     "text": [
      "cat 2\n",
      "dog 1\n"
     ]
    }
   ],
   "source": [
    "for key in data_by_animal:\n",
    "    # data_by_animal[key],\n",
    "    print(key, len(data_by_animal[key]))"
   ]
  },
  {
   "cell_type": "code",
   "execution_count": 23,
   "metadata": {},
   "outputs": [
    {
     "data": {
      "text/plain": [
       "{'cat': 2, 'dog': 1}"
      ]
     },
     "execution_count": 23,
     "metadata": {},
     "output_type": "execute_result"
    }
   ],
   "source": [
    "regular_dictionary"
   ]
  },
  {
   "cell_type": "code",
   "execution_count": null,
   "metadata": {},
   "outputs": [],
   "source": []
  }
 ],
 "metadata": {
  "kernelspec": {
   "display_name": "Python 3",
   "language": "python",
   "name": "python3"
  },
  "language_info": {
   "codemirror_mode": {
    "name": "ipython",
    "version": 3
   },
   "file_extension": ".py",
   "mimetype": "text/x-python",
   "name": "python",
   "nbconvert_exporter": "python",
   "pygments_lexer": "ipython3",
   "version": "3.8.5"
  }
 },
 "nbformat": 4,
 "nbformat_minor": 4
}
