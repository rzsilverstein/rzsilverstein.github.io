{
 "cells": [
  {
   "cell_type": "code",
   "execution_count": 4,
   "id": "rocky-triangle",
   "metadata": {},
   "outputs": [],
   "source": [
    "import json\n",
    "\n",
    "with open(\"some_data.json\",\"r\") as in_file:\n",
    "    dt=json.loads(in_file.read())\n",
    "    \n",
    "dt[\"another_field\"] =[{\"x\":5,\"y\":8,\"name\":\"see u\"}]"
   ]
  },
  {
   "cell_type": "code",
   "execution_count": 5,
   "id": "august-galaxy",
   "metadata": {},
   "outputs": [],
   "source": [
    "dt[\"another_field\"].append({\"x\":5,\"y\":8,\"name\":\"see u\"})"
   ]
  },
  {
   "cell_type": "code",
   "execution_count": 7,
   "id": "established-heritage",
   "metadata": {},
   "outputs": [],
   "source": [
    "with open(\"other_data.json\",\"w\") as outfile:\n",
    "    outfile.write(json.dumps(dt))"
   ]
  },
  {
   "cell_type": "code",
   "execution_count": 8,
   "id": "female-pendant",
   "metadata": {},
   "outputs": [
    {
     "data": {
      "text/plain": [
       "{'x': 1,\n",
       " 'y': 7,\n",
       " 'another_field': [{'x': 5, 'y': 8, 'name': 'see u'},\n",
       "  {'x': 5, 'y': 8, 'name': 'see u'}]}"
      ]
     },
     "execution_count": 8,
     "metadata": {},
     "output_type": "execute_result"
    }
   ],
   "source": [
    "dt"
   ]
  },
  {
   "cell_type": "code",
   "execution_count": 9,
   "id": "tutorial-cradle",
   "metadata": {},
   "outputs": [
    {
     "data": {
      "text/plain": [
       "{'x': 5, 'y': 8, 'name': 'see u'}"
      ]
     },
     "execution_count": 9,
     "metadata": {},
     "output_type": "execute_result"
    }
   ],
   "source": [
    "dt[\"another_field\"][0]"
   ]
  },
  {
   "cell_type": "code",
   "execution_count": 10,
   "id": "governmental-library",
   "metadata": {},
   "outputs": [
    {
     "data": {
      "text/plain": [
       "{'x': 5, 'y': 8, 'name': 'see u'}"
      ]
     },
     "execution_count": 10,
     "metadata": {},
     "output_type": "execute_result"
    }
   ],
   "source": [
    "dt[\"another_field\"][1]"
   ]
  },
  {
   "cell_type": "code",
   "execution_count": 11,
   "id": "desperate-quilt",
   "metadata": {},
   "outputs": [
    {
     "name": "stdout",
     "output_type": "stream",
     "text": [
      "{\"x\": 1, \"y\": 7, \"another_field\": [{\"x\": 5, \"y\": 8, \"name\": \"see u\"}, {\"x\": 5, \"y\": 8, \"name\": \"see u\"}]}"
     ]
    }
   ],
   "source": [
    "! cat other_data.json"
   ]
  },
  {
   "cell_type": "code",
   "execution_count": null,
   "id": "architectural-funds",
   "metadata": {},
   "outputs": [],
   "source": []
  }
 ],
 "metadata": {
  "kernelspec": {
   "display_name": "Python 3",
   "language": "python",
   "name": "python3"
  },
  "language_info": {
   "codemirror_mode": {
    "name": "ipython",
    "version": 3
   },
   "file_extension": ".py",
   "mimetype": "text/x-python",
   "name": "python",
   "nbconvert_exporter": "python",
   "pygments_lexer": "ipython3",
   "version": "3.8.5"
  }
 },
 "nbformat": 4,
 "nbformat_minor": 5
}
