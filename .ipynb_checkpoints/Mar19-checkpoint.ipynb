{
 "cells": [
  {
   "cell_type": "code",
   "execution_count": 8,
   "id": "alpine-liberty",
   "metadata": {},
   "outputs": [
    {
     "data": {
      "text/plain": [
       "{'weight': 4, 'animal': 'cat'}"
      ]
     },
     "execution_count": 8,
     "metadata": {},
     "output_type": "execute_result"
    }
   ],
   "source": [
    "datapoint = {}\n",
    "\n",
    "datapoint[\"weight\"] = 4\n",
    "\n",
    "datapoint[\"animal\"] = \"cat\"\n",
    "\n",
    "datapoint"
   ]
  },
  {
   "cell_type": "code",
   "execution_count": 9,
   "id": "through-sweden",
   "metadata": {},
   "outputs": [],
   "source": [
    "other_datapoint = {}\n",
    "\n",
    "other_datapoint[\"weight\"] = 20\n",
    "\n",
    "other_datapoint[\"animal\"] = \"dog\""
   ]
  },
  {
   "cell_type": "code",
   "execution_count": 10,
   "id": "israeli-visitor",
   "metadata": {},
   "outputs": [],
   "source": [
    "yet_another_datapoint = {}\n",
    "\n",
    "yet_another_datapoint[\"weight\"] = 45\n",
    "\n",
    "yet_another_datapoint[\"animal\"] = \"dog\""
   ]
  },
  {
   "cell_type": "code",
   "execution_count": 11,
   "id": "burning-software",
   "metadata": {},
   "outputs": [],
   "source": [
    "datasets = [datapoint, other_datapoint, yet_another_datapoint]"
   ]
  },
  {
   "cell_type": "code",
   "execution_count": 17,
   "id": "thirty-anthropology",
   "metadata": {},
   "outputs": [],
   "source": [
    "dogs=[]\n",
    "\n",
    "dogs.append(yet_another_datapoint)\n",
    "\n",
    "dogs.append(other_datapoint)\n",
    "\n",
    "\n",
    "cats = []\n",
    "\n",
    "cats.append(datapoint)"
   ]
  },
  {
   "cell_type": "code",
   "execution_count": null,
   "id": "utility-darkness",
   "metadata": {},
   "outputs": [],
   "source": []
  },
  {
   "cell_type": "code",
   "execution_count": 26,
   "id": "official-provision",
   "metadata": {},
   "outputs": [
    {
     "name": "stdout",
     "output_type": "stream",
     "text": [
      "defaultdict(<class 'list'>,\n",
      "            {'cat': [{'animal': 'cat', 'weight': 4}],\n",
      "             'dog': [{'animal': 'dog', 'weight': 20}]})\n"
     ]
    }
   ],
   "source": [
    "from collections import defaultdict\n",
    "import pprint\n",
    "\n",
    "cats_and_dogs = defaultdict(list)\n",
    "\n",
    "for point in datasets:\n",
    "    animal = point['animal']\n",
    "    cats_and_dogs[animal].append(point)\n",
    "    \n",
    "pprint.pprint(cats_and_dogs)"
   ]
  },
  {
   "cell_type": "code",
   "execution_count": 24,
   "id": "affected-passport",
   "metadata": {},
   "outputs": [],
   "source": [
    "min_ = 10000000000\n",
    "\n",
    "for dog in cats_and_dogs['dog']:\n",
    "    if (dog['weight']) < min_:\n",
    "        min_ = dog['weight']\n",
    "        \n",
    "        "
   ]
  },
  {
   "cell_type": "code",
   "execution_count": 13,
   "id": "naval-input",
   "metadata": {},
   "outputs": [
    {
     "data": {
      "text/plain": [
       "{'someList': [1, 2, 3, 5]}"
      ]
     },
     "execution_count": 13,
     "metadata": {},
     "output_type": "execute_result"
    }
   ],
   "source": [
    "some_other_dictionary = {}\n",
    "some_other_dictionary[\"someList\"] = [1,2,3,5]\n",
    "some_other_dictionary"
   ]
  },
  {
   "cell_type": "code",
   "execution_count": null,
   "id": "intellectual-protein",
   "metadata": {},
   "outputs": [],
   "source": []
  }
 ],
 "metadata": {
  "kernelspec": {
   "display_name": "Python 3",
   "language": "python",
   "name": "python3"
  },
  "language_info": {
   "codemirror_mode": {
    "name": "ipython",
    "version": 3
   },
   "file_extension": ".py",
   "mimetype": "text/x-python",
   "name": "python",
   "nbconvert_exporter": "python",
   "pygments_lexer": "ipython3",
   "version": "3.8.5"
  }
 },
 "nbformat": 4,
 "nbformat_minor": 5
}
