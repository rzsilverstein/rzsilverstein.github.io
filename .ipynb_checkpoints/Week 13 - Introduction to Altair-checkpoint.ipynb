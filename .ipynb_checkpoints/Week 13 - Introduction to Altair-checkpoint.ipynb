{
 "cells": [
  {
   "cell_type": "markdown",
   "id": "informed-display",
   "metadata": {},
   "source": [
    "# INFO 3402 – Week 13: Visualizing data in Altair and Vega\n",
    "\n",
    "[Brian C. Keegan, Ph.D.](http://brianckeegan.com/)  \n",
    "[Assistant Professor, Department of Information Science](https://www.colorado.edu/cmci/people/information-science/brian-c-keegan)  \n",
    "University of Colorado Boulder  \n",
    "\n",
    "Copyright and distributed under an [MIT License](https://opensource.org/licenses/MIT).\n",
    "\n",
    "## Learning Objectives\n",
    "* Visualizing data using \"grammars of graphics\"\n",
    "* Using Altair to construct Vega specifications for visualizing data\n",
    "\n",
    "## Resources\n",
    "* Documentation\n",
    "  * [Vega and Vega-Lite](https://vega.github.io/) documentation.\n",
    "  * [Altair](https://altair-viz.github.io/index.html) documentation.\n",
    "* Optional readings\n",
    "  * Wilkinson, L. *[The Grammar of Graphics](https://www.springer.com/gp/book/9780387245447).*\n",
    "  * Wilkinson, L. \"[The Grammar of Graphics](https://link.springer.com/chapter/10.1007/978-3-642-21551-3_13).\" *Handbook of Computational Statistics*, 2012.\n",
    "  * Wickham, H. \"[A Layered Grammar of Graphics](https://www.tandfonline.com/doi/abs/10.1198/jcgs.2009.07098).\" *J. of Comp. and Graphical Statistics*, 2010.\n",
    "  * Satyanarayan, A.,Wongsuphasawat, K., & Heer, J. \"[Declarative interaction design for data visualization](https://dl.acm.org/doi/abs/10.1145/2642918.2647360).\" *Proc. UIST'14*.\n",
    "  * Satyanarayan, A., Moritz, D., Wongsuphasawat, K., & Heer, J. \"[Vega-Lite: A Grammar of Interactive Graphics](https://idl.cs.washington.edu/papers/vega-lite).\" *IEEE Trans. Visualization & Comp. Graphics*, 2017.\n",
    "  * VanderPlas, J., Granger, B.E., Heer, J., *et al*. \"[Altair: Interactive Statistical Visualizations for Python](https://joss.theoj.org/papers/10.21105/joss.01057.pdf)\", *The Journal of Open Source Software*"
   ]
  },
  {
   "cell_type": "markdown",
   "id": "neural-violin",
   "metadata": {},
   "source": [
    "## Install libraries\n",
    "\n",
    "You only need to do this once. At the terminal (or Anaconda Prompt on Windows) run:\n",
    "\n",
    "<code>conda install -c conda-forge altair vega_datasets</code>\n",
    "\n",
    "If it's been a while, now may also be a good time to do a <code>conda update --all</code>"
   ]
  },
  {
   "cell_type": "markdown",
   "id": "rubber-secretariat",
   "metadata": {},
   "source": [
    "## Import libraries"
   ]
  },
  {
   "cell_type": "code",
   "execution_count": null,
   "id": "searching-institution",
   "metadata": {},
   "outputs": [],
   "source": [
    "import pandas as pd\n",
    "import altair as alt"
   ]
  },
  {
   "cell_type": "markdown",
   "id": "unsigned-lottery",
   "metadata": {},
   "source": [
    "## Make some fake data"
   ]
  },
  {
   "cell_type": "code",
   "execution_count": null,
   "id": "quarterly-latitude",
   "metadata": {},
   "outputs": [],
   "source": [
    "data = pd.DataFrame({'a': list('CCCDDDEEE'),\n",
    "                     'b': [2, 7, 4, 1, 2, 6, 8, 4, 7]})\n",
    "\n",
    "data"
   ]
  },
  {
   "cell_type": "markdown",
   "id": "taken-event",
   "metadata": {},
   "source": [
    "## Make a Chart object with the `data` inside"
   ]
  },
  {
   "cell_type": "code",
   "execution_count": null,
   "id": "flush-seven",
   "metadata": {},
   "outputs": [],
   "source": [
    "chart = alt.Chart(data)"
   ]
  },
  {
   "cell_type": "markdown",
   "id": "sexual-translator",
   "metadata": {},
   "source": [
    "## Make a basic mark"
   ]
  },
  {
   "cell_type": "code",
   "execution_count": null,
   "id": "square-printing",
   "metadata": {},
   "outputs": [],
   "source": [
    "chart.mark_point()"
   ]
  },
  {
   "cell_type": "markdown",
   "id": "induced-scout",
   "metadata": {},
   "source": [
    "## Make a basic mark with encodings"
   ]
  },
  {
   "cell_type": "code",
   "execution_count": null,
   "id": "plastic-wound",
   "metadata": {},
   "outputs": [],
   "source": [
    "chart.mark_point().encode(x='a')"
   ]
  },
  {
   "cell_type": "code",
   "execution_count": null,
   "id": "mature-curve",
   "metadata": {},
   "outputs": [],
   "source": [
    "chart.mark_point().encode(x='a',y='b')"
   ]
  },
  {
   "cell_type": "markdown",
   "id": "heard-delta",
   "metadata": {},
   "source": [
    "## Try an alternative mark and encoding"
   ]
  },
  {
   "cell_type": "code",
   "execution_count": null,
   "id": "sapphire-aaron",
   "metadata": {},
   "outputs": [],
   "source": [
    "chart.mark_point().encode(x='b',y='a')"
   ]
  },
  {
   "cell_type": "code",
   "execution_count": null,
   "id": "smart-survivor",
   "metadata": {},
   "outputs": [],
   "source": [
    "chart_bar = chart.mark_bar().encode(x='average(b)',y='a')\n",
    "chart_bar"
   ]
  },
  {
   "cell_type": "markdown",
   "id": "swiss-adjustment",
   "metadata": {},
   "source": [
    "## Change mark color"
   ]
  },
  {
   "cell_type": "code",
   "execution_count": null,
   "id": "interesting-nicholas",
   "metadata": {},
   "outputs": [],
   "source": [
    "chart_bar = chart.mark_bar(color='red').encode(x='average(b)',y='a')\n",
    "chart_bar"
   ]
  },
  {
   "cell_type": "markdown",
   "id": "statutory-substance",
   "metadata": {},
   "source": [
    "## Examine JSON output"
   ]
  },
  {
   "cell_type": "code",
   "execution_count": null,
   "id": "other-auckland",
   "metadata": {},
   "outputs": [],
   "source": [
    "print(chart_bar.to_json())"
   ]
  },
  {
   "cell_type": "markdown",
   "id": "southeast-joseph",
   "metadata": {},
   "source": [
    "## Save chart to HTML"
   ]
  },
  {
   "cell_type": "code",
   "execution_count": null,
   "id": "excited-nutrition",
   "metadata": {},
   "outputs": [],
   "source": [
    "chart_bar.save('chart_bar.html')"
   ]
  },
  {
   "cell_type": "code",
   "execution_count": null,
   "id": "wrapped-browser",
   "metadata": {},
   "outputs": [],
   "source": []
  }
 ],
 "metadata": {
  "kernelspec": {
   "display_name": "Python 3",
   "language": "python",
   "name": "python3"
  },
  "language_info": {
   "codemirror_mode": {
    "name": "ipython",
    "version": 3
   },
   "file_extension": ".py",
   "mimetype": "text/x-python",
   "name": "python",
   "nbconvert_exporter": "python",
   "pygments_lexer": "ipython3",
   "version": "3.8.5"
  }
 },
 "nbformat": 4,
 "nbformat_minor": 5
}
